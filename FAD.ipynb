{
 "cells": [
  {
   "cell_type": "markdown",
   "id": "e6e675a4",
   "metadata": {},
   "source": [
    "Project Titlem:- Financial Analytics"
   ]
  },
  {
   "cell_type": "markdown",
   "id": "53b02f64",
   "metadata": {},
   "source": [
    "Problem Statement:-\n",
    "Without analyzing the competition, it is difficult for a business to survive. You are\n",
    "tasked to analyse the competition for the management to provide better results. This\n",
    "data set has information on the market capitalization of the top 500 companies in India.\n",
    "Serial NumberNameName of CompanyMar Cap – CroreMarket Capitalization in\n",
    "CroresSales Qtr – CroreQuarterly Sale in crores. Find key metrics and factors and\n",
    "show the meaningful relationships between attributes.\n"
   ]
  },
  {
   "cell_type": "code",
   "execution_count": 1,
   "id": "9aed907d",
   "metadata": {},
   "outputs": [],
   "source": [
    "import pandas as pd\n",
    "import matplotlib.pyplot as plt\n",
    "import seaborn as sns"
   ]
  },
  {
   "cell_type": "code",
   "execution_count": 2,
   "id": "4cdc8b8a",
   "metadata": {},
   "outputs": [
    {
     "data": {
      "text/html": [
       "<div>\n",
       "<style scoped>\n",
       "    .dataframe tbody tr th:only-of-type {\n",
       "        vertical-align: middle;\n",
       "    }\n",
       "\n",
       "    .dataframe tbody tr th {\n",
       "        vertical-align: top;\n",
       "    }\n",
       "\n",
       "    .dataframe thead th {\n",
       "        text-align: right;\n",
       "    }\n",
       "</style>\n",
       "<table border=\"1\" class=\"dataframe\">\n",
       "  <thead>\n",
       "    <tr style=\"text-align: right;\">\n",
       "      <th></th>\n",
       "      <th>S.No.</th>\n",
       "      <th>Name</th>\n",
       "      <th>Mar Cap - Crore</th>\n",
       "      <th>Sales Qtr - Crore</th>\n",
       "    </tr>\n",
       "  </thead>\n",
       "  <tbody>\n",
       "    <tr>\n",
       "      <th>0</th>\n",
       "      <td>1</td>\n",
       "      <td>Reliance Inds.</td>\n",
       "      <td>583436.72</td>\n",
       "      <td>99810.00</td>\n",
       "    </tr>\n",
       "    <tr>\n",
       "      <th>1</th>\n",
       "      <td>2</td>\n",
       "      <td>TCS</td>\n",
       "      <td>563709.84</td>\n",
       "      <td>30904.00</td>\n",
       "    </tr>\n",
       "    <tr>\n",
       "      <th>2</th>\n",
       "      <td>3</td>\n",
       "      <td>HDFC Bank</td>\n",
       "      <td>482953.59</td>\n",
       "      <td>20581.27</td>\n",
       "    </tr>\n",
       "    <tr>\n",
       "      <th>3</th>\n",
       "      <td>4</td>\n",
       "      <td>ITC</td>\n",
       "      <td>320985.27</td>\n",
       "      <td>9772.02</td>\n",
       "    </tr>\n",
       "    <tr>\n",
       "      <th>4</th>\n",
       "      <td>5</td>\n",
       "      <td>H D F C</td>\n",
       "      <td>289497.37</td>\n",
       "      <td>16840.51</td>\n",
       "    </tr>\n",
       "    <tr>\n",
       "      <th>...</th>\n",
       "      <td>...</td>\n",
       "      <td>...</td>\n",
       "      <td>...</td>\n",
       "      <td>...</td>\n",
       "    </tr>\n",
       "    <tr>\n",
       "      <th>483</th>\n",
       "      <td>496</td>\n",
       "      <td>Lak. Vilas Bank</td>\n",
       "      <td>3029.57</td>\n",
       "      <td>790.17</td>\n",
       "    </tr>\n",
       "    <tr>\n",
       "      <th>484</th>\n",
       "      <td>497</td>\n",
       "      <td>NOCIL</td>\n",
       "      <td>3026.26</td>\n",
       "      <td>249.27</td>\n",
       "    </tr>\n",
       "    <tr>\n",
       "      <th>485</th>\n",
       "      <td>498</td>\n",
       "      <td>Orient Cement</td>\n",
       "      <td>3024.32</td>\n",
       "      <td>511.53</td>\n",
       "    </tr>\n",
       "    <tr>\n",
       "      <th>486</th>\n",
       "      <td>499</td>\n",
       "      <td>Natl.Fertilizer</td>\n",
       "      <td>3017.07</td>\n",
       "      <td>2840.75</td>\n",
       "    </tr>\n",
       "    <tr>\n",
       "      <th>487</th>\n",
       "      <td>500</td>\n",
       "      <td>L T Foods</td>\n",
       "      <td>0.00</td>\n",
       "      <td>0.00</td>\n",
       "    </tr>\n",
       "  </tbody>\n",
       "</table>\n",
       "<p>488 rows × 4 columns</p>\n",
       "</div>"
      ],
      "text/plain": [
       "     S.No.             Name  Mar Cap - Crore  Sales Qtr - Crore\n",
       "0        1   Reliance Inds.        583436.72           99810.00\n",
       "1        2              TCS        563709.84           30904.00\n",
       "2        3        HDFC Bank        482953.59           20581.27\n",
       "3        4              ITC        320985.27            9772.02\n",
       "4        5          H D F C        289497.37           16840.51\n",
       "..     ...              ...              ...                ...\n",
       "483    496  Lak. Vilas Bank          3029.57             790.17\n",
       "484    497            NOCIL          3026.26             249.27\n",
       "485    498    Orient Cement          3024.32             511.53\n",
       "486    499  Natl.Fertilizer          3017.07            2840.75\n",
       "487    500        L T Foods             0.00               0.00\n",
       "\n",
       "[488 rows x 4 columns]"
      ]
     },
     "execution_count": 2,
     "metadata": {},
     "output_type": "execute_result"
    }
   ],
   "source": [
    "data=pd.read_csv(R\"C:\\Users\\Lenovo Laptop\\Desktop\\Unified-INT\\FAD.csv\")\n",
    "data"
   ]
  },
  {
   "cell_type": "code",
   "execution_count": 3,
   "id": "0c5c9700",
   "metadata": {},
   "outputs": [
    {
     "name": "stdout",
     "output_type": "stream",
     "text": [
      "First few rows of the dataset:\n",
      "   S.No.            Name  Mar Cap - Crore  Sales Qtr - Crore\n",
      "0      1  Reliance Inds.        583436.72           99810.00\n",
      "1      2             TCS        563709.84           30904.00\n",
      "2      3       HDFC Bank        482953.59           20581.27\n",
      "3      4             ITC        320985.27            9772.02\n",
      "4      5         H D F C        289497.37           16840.51\n"
     ]
    }
   ],
   "source": [
    "# Display the first few rows of the DataFrame\n",
    "print(\"First few rows of the dataset:\")\n",
    "print(data.head())"
   ]
  },
  {
   "cell_type": "code",
   "execution_count": 4,
   "id": "98826df4",
   "metadata": {},
   "outputs": [
    {
     "name": "stdout",
     "output_type": "stream",
     "text": [
      "\n",
      "DataFrame Information:\n",
      "<class 'pandas.core.frame.DataFrame'>\n",
      "RangeIndex: 488 entries, 0 to 487\n",
      "Data columns (total 4 columns):\n",
      " #   Column             Non-Null Count  Dtype  \n",
      "---  ------             --------------  -----  \n",
      " 0   S.No.              488 non-null    int64  \n",
      " 1   Name               488 non-null    object \n",
      " 2   Mar Cap - Crore    488 non-null    float64\n",
      " 3   Sales Qtr - Crore  488 non-null    float64\n",
      "dtypes: float64(2), int64(1), object(1)\n",
      "memory usage: 15.4+ KB\n",
      "None\n"
     ]
    }
   ],
   "source": [
    "# Display basic information about the DataFrame\n",
    "print(\"\\nDataFrame Information:\")\n",
    "print(data.info())"
   ]
  },
  {
   "cell_type": "code",
   "execution_count": 5,
   "id": "876a6274",
   "metadata": {},
   "outputs": [
    {
     "name": "stdout",
     "output_type": "stream",
     "text": [
      "\n",
      "Basic Statistics:\n",
      "            S.No.  Mar Cap - Crore  Sales Qtr - Crore\n",
      "count  488.000000       488.000000         488.000000\n",
      "mean   251.508197     27526.654836        3581.506844\n",
      "std    145.884078     59033.540015        9729.282622\n",
      "min      1.000000         0.000000           0.000000\n",
      "25%    122.750000      4643.832500         459.357500\n",
      "50%    252.500000      9460.155000         982.300000\n",
      "75%    378.250000     23400.815000        2580.797500\n",
      "max    500.000000    583436.720000      110666.930000\n"
     ]
    }
   ],
   "source": [
    "# Display basic statistics\n",
    "print(\"\\nBasic Statistics:\")\n",
    "print(data.describe())"
   ]
  },
  {
   "cell_type": "code",
   "execution_count": 6,
   "id": "cbcf3497",
   "metadata": {},
   "outputs": [
    {
     "name": "stdout",
     "output_type": "stream",
     "text": [
      "\n",
      "Number of duplicate rows: 0\n"
     ]
    }
   ],
   "source": [
    "# Check for duplicate rows\n",
    "duplicates = data.duplicated().sum()\n",
    "print(f\"\\nNumber of duplicate rows: {duplicates}\")"
   ]
  },
  {
   "cell_type": "code",
   "execution_count": 7,
   "id": "bd021186",
   "metadata": {},
   "outputs": [
    {
     "data": {
      "text/html": [
       "<div>\n",
       "<style scoped>\n",
       "    .dataframe tbody tr th:only-of-type {\n",
       "        vertical-align: middle;\n",
       "    }\n",
       "\n",
       "    .dataframe tbody tr th {\n",
       "        vertical-align: top;\n",
       "    }\n",
       "\n",
       "    .dataframe thead th {\n",
       "        text-align: right;\n",
       "    }\n",
       "</style>\n",
       "<table border=\"1\" class=\"dataframe\">\n",
       "  <thead>\n",
       "    <tr style=\"text-align: right;\">\n",
       "      <th></th>\n",
       "      <th>S.No.</th>\n",
       "      <th>Name</th>\n",
       "      <th>Mar Cap - Crore</th>\n",
       "      <th>Sales Qtr - Crore</th>\n",
       "      <th>Mar Cap to Sales Ratio</th>\n",
       "    </tr>\n",
       "  </thead>\n",
       "  <tbody>\n",
       "    <tr>\n",
       "      <th>0</th>\n",
       "      <td>1</td>\n",
       "      <td>Reliance Inds.</td>\n",
       "      <td>583436.72</td>\n",
       "      <td>99810.00</td>\n",
       "      <td>5.845474</td>\n",
       "    </tr>\n",
       "    <tr>\n",
       "      <th>1</th>\n",
       "      <td>2</td>\n",
       "      <td>TCS</td>\n",
       "      <td>563709.84</td>\n",
       "      <td>30904.00</td>\n",
       "      <td>18.240676</td>\n",
       "    </tr>\n",
       "    <tr>\n",
       "      <th>2</th>\n",
       "      <td>3</td>\n",
       "      <td>HDFC Bank</td>\n",
       "      <td>482953.59</td>\n",
       "      <td>20581.27</td>\n",
       "      <td>23.465685</td>\n",
       "    </tr>\n",
       "    <tr>\n",
       "      <th>3</th>\n",
       "      <td>4</td>\n",
       "      <td>ITC</td>\n",
       "      <td>320985.27</td>\n",
       "      <td>9772.02</td>\n",
       "      <td>32.847382</td>\n",
       "    </tr>\n",
       "    <tr>\n",
       "      <th>4</th>\n",
       "      <td>5</td>\n",
       "      <td>H D F C</td>\n",
       "      <td>289497.37</td>\n",
       "      <td>16840.51</td>\n",
       "      <td>17.190535</td>\n",
       "    </tr>\n",
       "    <tr>\n",
       "      <th>...</th>\n",
       "      <td>...</td>\n",
       "      <td>...</td>\n",
       "      <td>...</td>\n",
       "      <td>...</td>\n",
       "      <td>...</td>\n",
       "    </tr>\n",
       "    <tr>\n",
       "      <th>483</th>\n",
       "      <td>496</td>\n",
       "      <td>Lak. Vilas Bank</td>\n",
       "      <td>3029.57</td>\n",
       "      <td>790.17</td>\n",
       "      <td>3.834074</td>\n",
       "    </tr>\n",
       "    <tr>\n",
       "      <th>484</th>\n",
       "      <td>497</td>\n",
       "      <td>NOCIL</td>\n",
       "      <td>3026.26</td>\n",
       "      <td>249.27</td>\n",
       "      <td>12.140490</td>\n",
       "    </tr>\n",
       "    <tr>\n",
       "      <th>485</th>\n",
       "      <td>498</td>\n",
       "      <td>Orient Cement</td>\n",
       "      <td>3024.32</td>\n",
       "      <td>511.53</td>\n",
       "      <td>5.912302</td>\n",
       "    </tr>\n",
       "    <tr>\n",
       "      <th>486</th>\n",
       "      <td>499</td>\n",
       "      <td>Natl.Fertilizer</td>\n",
       "      <td>3017.07</td>\n",
       "      <td>2840.75</td>\n",
       "      <td>1.062068</td>\n",
       "    </tr>\n",
       "    <tr>\n",
       "      <th>487</th>\n",
       "      <td>500</td>\n",
       "      <td>L T Foods</td>\n",
       "      <td>0.00</td>\n",
       "      <td>0.00</td>\n",
       "      <td>NaN</td>\n",
       "    </tr>\n",
       "  </tbody>\n",
       "</table>\n",
       "<p>488 rows × 5 columns</p>\n",
       "</div>"
      ],
      "text/plain": [
       "     S.No.             Name  Mar Cap - Crore  Sales Qtr - Crore  \\\n",
       "0        1   Reliance Inds.        583436.72           99810.00   \n",
       "1        2              TCS        563709.84           30904.00   \n",
       "2        3        HDFC Bank        482953.59           20581.27   \n",
       "3        4              ITC        320985.27            9772.02   \n",
       "4        5          H D F C        289497.37           16840.51   \n",
       "..     ...              ...              ...                ...   \n",
       "483    496  Lak. Vilas Bank          3029.57             790.17   \n",
       "484    497            NOCIL          3026.26             249.27   \n",
       "485    498    Orient Cement          3024.32             511.53   \n",
       "486    499  Natl.Fertilizer          3017.07            2840.75   \n",
       "487    500        L T Foods             0.00               0.00   \n",
       "\n",
       "     Mar Cap to Sales Ratio  \n",
       "0                  5.845474  \n",
       "1                 18.240676  \n",
       "2                 23.465685  \n",
       "3                 32.847382  \n",
       "4                 17.190535  \n",
       "..                      ...  \n",
       "483                3.834074  \n",
       "484               12.140490  \n",
       "485                5.912302  \n",
       "486                1.062068  \n",
       "487                     NaN  \n",
       "\n",
       "[488 rows x 5 columns]"
      ]
     },
     "execution_count": 7,
     "metadata": {},
     "output_type": "execute_result"
    }
   ],
   "source": [
    "# Calculate key financial metrics\n",
    "data['Mar Cap to Sales Ratio'] = data['Mar Cap - Crore'] / data['Sales Qtr - Crore']\n",
    "data"
   ]
  },
  {
   "cell_type": "code",
   "execution_count": 8,
   "id": "c7580744",
   "metadata": {},
   "outputs": [
    {
     "name": "stdout",
     "output_type": "stream",
     "text": [
      "\n",
      "Top 5 Companies by Market Cap:\n",
      "             Name  Mar Cap - Crore  Sales Qtr - Crore  Mar Cap to Sales Ratio\n",
      "0  Reliance Inds.        583436.72           99810.00                5.845474\n",
      "1             TCS        563709.84           30904.00               18.240676\n",
      "2       HDFC Bank        482953.59           20581.27               23.465685\n",
      "3             ITC        320985.27            9772.02               32.847382\n",
      "4         H D F C        289497.37           16840.51               17.190535\n",
      "\n",
      "Top 5 Companies by Sales:\n",
      "              Name  Sales Qtr - Crore  Mar Cap - Crore  Mar Cap to Sales Ratio\n",
      "14         I O C L          110666.93        178017.48                1.608588\n",
      "0   Reliance Inds.           99810.00        583436.72                5.845474\n",
      "23     Tata Motors           74156.07        117071.87                1.578723\n",
      "27         B P C L           60616.36         98278.00                1.621311\n",
      "54         H P C L           57474.25         58034.78                1.009753\n"
     ]
    }
   ],
   "source": [
    "# Identify top companies by market cap and sales\n",
    "top_market_cap = data.nlargest(5, 'Mar Cap - Crore')\n",
    "top_sales = data.nlargest(5, 'Sales Qtr - Crore')\n",
    "print(\"\\nTop 5 Companies by Market Cap:\")\n",
    "print(top_market_cap[['Name', 'Mar Cap - Crore', 'Sales Qtr - Crore', 'Mar Cap to Sales Ratio']])\n",
    "\n",
    "print(\"\\nTop 5 Companies by Sales:\")\n",
    "print(top_sales[['Name', 'Sales Qtr - Crore', 'Mar Cap - Crore', 'Mar Cap to Sales Ratio']])\n"
   ]
  },
  {
   "cell_type": "code",
   "execution_count": 9,
   "id": "d61b1739",
   "metadata": {},
   "outputs": [
    {
     "data": {
      "image/png": "[encoded data removed]",
      "text/plain": [
       "<Figure size 1400x600 with 2 Axes>"
      ]
     },
     "metadata": {},
     "output_type": "display_data"
    }
   ],
   "source": [
    "# Visualization: Distribution of Market Cap and Sales\n",
    "plt.figure(figsize=(14, 6))\n",
    "\n",
    "plt.subplot(1, 2, 1)\n",
    "sns.histplot(data['Mar Cap - Crore'], kde=True)\n",
    "plt.title('Distribution of Market Cap')\n",
    "plt.xlabel('Market Cap (Crore)')\n",
    "plt.ylabel('Frequency')\n",
    "\n",
    "plt.subplot(1, 2, 2)\n",
    "sns.histplot(data['Sales Qtr - Crore'], kde=True)\n",
    "plt.title('Distribution of Sales')\n",
    "plt.xlabel('Sales (Crore)')\n",
    "plt.ylabel('Frequency')\n",
    "\n",
    "plt.tight_layout()\n",
    "plt.show()"
   ]
  },
  {
   "cell_type": "code",
   "execution_count": 10,
   "id": "9d0c65d0",
   "metadata": {},
   "outputs": [
    {
     "name": "stderr",
     "output_type": "stream",
     "text": [
      "C:\\Users\\Lenovo Laptop\\AppData\\Local\\Temp\\ipykernel_20924\\2972801520.py:4: FutureWarning: \n",
      "\n",
      "Passing `palette` without assigning `hue` is deprecated and will be removed in v0.14.0. Assign the `y` variable to `hue` and set `legend=False` for the same effect.\n",
      "\n",
      "  sns.barplot(x='Mar Cap - Crore', y='Name', data=top_market_cap, palette='viridis')\n",
      "C:\\Users\\Lenovo Laptop\\AppData\\Local\\Temp\\ipykernel_20924\\2972801520.py:10: FutureWarning: \n",
      "\n",
      "Passing `palette` without assigning `hue` is deprecated and will be removed in v0.14.0. Assign the `y` variable to `hue` and set `legend=False` for the same effect.\n",
      "\n",
      "  sns.barplot(x='Sales Qtr - Crore', y='Name', data=top_sales, palette='magma')\n"
     ]
    },
    {
     "data": {
      "image/png": "[encoded data removed]",
      "text/plain": [
       "<Figure size 1400x600 with 2 Axes>"
      ]
     },
     "metadata": {},
     "output_type": "display_data"
    }
   ],
   "source": [
    "# Visualization: Top Companies by Market Cap and Sales\n",
    "plt.figure(figsize=(14, 6))\n",
    "plt.subplot(1, 2, 1)\n",
    "sns.barplot(x='Mar Cap - Crore', y='Name', data=top_market_cap, palette='viridis')\n",
    "plt.title('Top 5 Companies by Market Cap')\n",
    "plt.xlabel('Market Cap (Crore)')\n",
    "plt.ylabel('Company')\n",
    "\n",
    "plt.subplot(1, 2, 2)\n",
    "sns.barplot(x='Sales Qtr - Crore', y='Name', data=top_sales, palette='magma')\n",
    "plt.title('Top 5 Companies by Sales')\n",
    "plt.xlabel('Sales (Crore)')\n",
    "plt.ylabel('Company')\n",
    "\n",
    "plt.tight_layout()\n",
    "plt.show()"
   ]
  }
 ],
 "metadata": {
  "kernelspec": {
   "display_name": "Python 3",
   "language": "python",
   "name": "python3"
  },
  "language_info": {
   "codemirror_mode": {
    "name": "ipython",
    "version": 3
   },
   "file_extension": ".py",
   "mimetype": "text/x-python",
   "name": "python",
   "nbconvert_exporter": "python",
   "pygments_lexer": "ipython3",
   "version": "3.12.2"
  }
 },
 "nbformat": 4,
 "nbformat_minor": 5
}
